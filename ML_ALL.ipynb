{
  "nbformat": 4,
  "nbformat_minor": 0,
  "metadata": {
    "colab": {
      "provenance": [],
      "collapsed_sections": []
    },
    "kernelspec": {
      "name": "python3",
      "display_name": "Python 3"
    },
    "language_info": {
      "name": "python"
    }
  },
  "cells": [
    {
      "cell_type": "markdown",
      "source": [
        "**All ALGORITHMS**\n",
        "<br>\n",
        "1. KNN classifier <br>\n",
        "2. Naive Bayes <br>\n",
        "3. K means <br>\n",
        "4. Hierarchial <br>\n",
        "5. Decision Tree <br>\n",
        "6. Linear regression <br>\n",
        "7. Logistic regression <br>\n",
        "8. MLP <br>\n"
      ],
      "metadata": {
        "id": "exuv82KdlXEB"
      }
    },
    {
      "cell_type": "markdown",
      "source": [
        "**DATA SET DESCRIPTION**<br>\n",
        "This dataset is taken from the data-world repository and is official data published by the givernment of UK. <br>"
      ],
      "metadata": {
        "id": "bPh-dDp29PSr"
      }
    },
    {
      "cell_type": "markdown",
      "source": [
        "Information on all road accident casualties across Calderdale. Data includes location, number of people and vehicles involved, road surface, weather conditions and severity of any casualties. Please note 'The Eastings and Northings' are generated at the roadside where the accident occurred. <br> The road casualty pdf reports refer to casualties who were killed or seriously injured, whereas the accident data refers to all road casualties.\n",
        "\n",
        "Here we have considered 'Casualty Severity' as class attribute and we are trying to classify the dataset into 3 clasess based on the weather conditions, lightning age of the casualty etc. we are not considering the eastings and northings for time being. "
      ],
      "metadata": {
        "id": "NNpqUPYNfd_A"
      }
    },
    {
      "cell_type": "code",
      "source": [
        "from google.colab import files\n",
        " \n",
        "uploaded = files.upload()"
      ],
      "metadata": {
        "colab": {
          "base_uri": "https://localhost:8080/",
          "height": 91
        },
        "id": "xDHUtVEZlr6P",
        "outputId": "2f89f7d1-6472-4d51-b313-980c9a6fea61"
      },
      "execution_count": null,
      "outputs": [
        {
          "output_type": "display_data",
          "data": {
            "text/plain": [
              "<IPython.core.display.HTML object>"
            ],
            "text/html": [
              "\n",
              "     <input type=\"file\" id=\"files-0222bdd5-d9f6-4903-bebd-9a778d1cd952\" name=\"files[]\" multiple disabled\n",
              "        style=\"border:none\" />\n",
              "     <output id=\"result-0222bdd5-d9f6-4903-bebd-9a778d1cd952\">\n",
              "      Upload widget is only available when the cell has been executed in the\n",
              "      current browser session. Please rerun this cell to enable.\n",
              "      </output>\n",
              "      <script>// Copyright 2017 Google LLC\n",
              "//\n",
              "// Licensed under the Apache License, Version 2.0 (the \"License\");\n",
              "// you may not use this file except in compliance with the License.\n",
              "// You may obtain a copy of the License at\n",
              "//\n",
              "//      http://www.apache.org/licenses/LICENSE-2.0\n",
              "//\n",
              "// Unless required by applicable law or agreed to in writing, software\n",
              "// distributed under the License is distributed on an \"AS IS\" BASIS,\n",
              "// WITHOUT WARRANTIES OR CONDITIONS OF ANY KIND, either express or implied.\n",
              "// See the License for the specific language governing permissions and\n",
              "// limitations under the License.\n",
              "\n",
              "/**\n",
              " * @fileoverview Helpers for google.colab Python module.\n",
              " */\n",
              "(function(scope) {\n",
              "function span(text, styleAttributes = {}) {\n",
              "  const element = document.createElement('span');\n",
              "  element.textContent = text;\n",
              "  for (const key of Object.keys(styleAttributes)) {\n",
              "    element.style[key] = styleAttributes[key];\n",
              "  }\n",
              "  return element;\n",
              "}\n",
              "\n",
              "// Max number of bytes which will be uploaded at a time.\n",
              "const MAX_PAYLOAD_SIZE = 100 * 1024;\n",
              "\n",
              "function _uploadFiles(inputId, outputId) {\n",
              "  const steps = uploadFilesStep(inputId, outputId);\n",
              "  const outputElement = document.getElementById(outputId);\n",
              "  // Cache steps on the outputElement to make it available for the next call\n",
              "  // to uploadFilesContinue from Python.\n",
              "  outputElement.steps = steps;\n",
              "\n",
              "  return _uploadFilesContinue(outputId);\n",
              "}\n",
              "\n",
              "// This is roughly an async generator (not supported in the browser yet),\n",
              "// where there are multiple asynchronous steps and the Python side is going\n",
              "// to poll for completion of each step.\n",
              "// This uses a Promise to block the python side on completion of each step,\n",
              "// then passes the result of the previous step as the input to the next step.\n",
              "function _uploadFilesContinue(outputId) {\n",
              "  const outputElement = document.getElementById(outputId);\n",
              "  const steps = outputElement.steps;\n",
              "\n",
              "  const next = steps.next(outputElement.lastPromiseValue);\n",
              "  return Promise.resolve(next.value.promise).then((value) => {\n",
              "    // Cache the last promise value to make it available to the next\n",
              "    // step of the generator.\n",
              "    outputElement.lastPromiseValue = value;\n",
              "    return next.value.response;\n",
              "  });\n",
              "}\n",
              "\n",
              "/**\n",
              " * Generator function which is called between each async step of the upload\n",
              " * process.\n",
              " * @param {string} inputId Element ID of the input file picker element.\n",
              " * @param {string} outputId Element ID of the output display.\n",
              " * @return {!Iterable<!Object>} Iterable of next steps.\n",
              " */\n",
              "function* uploadFilesStep(inputId, outputId) {\n",
              "  const inputElement = document.getElementById(inputId);\n",
              "  inputElement.disabled = false;\n",
              "\n",
              "  const outputElement = document.getElementById(outputId);\n",
              "  outputElement.innerHTML = '';\n",
              "\n",
              "  const pickedPromise = new Promise((resolve) => {\n",
              "    inputElement.addEventListener('change', (e) => {\n",
              "      resolve(e.target.files);\n",
              "    });\n",
              "  });\n",
              "\n",
              "  const cancel = document.createElement('button');\n",
              "  inputElement.parentElement.appendChild(cancel);\n",
              "  cancel.textContent = 'Cancel upload';\n",
              "  const cancelPromise = new Promise((resolve) => {\n",
              "    cancel.onclick = () => {\n",
              "      resolve(null);\n",
              "    };\n",
              "  });\n",
              "\n",
              "  // Wait for the user to pick the files.\n",
              "  const files = yield {\n",
              "    promise: Promise.race([pickedPromise, cancelPromise]),\n",
              "    response: {\n",
              "      action: 'starting',\n",
              "    }\n",
              "  };\n",
              "\n",
              "  cancel.remove();\n",
              "\n",
              "  // Disable the input element since further picks are not allowed.\n",
              "  inputElement.disabled = true;\n",
              "\n",
              "  if (!files) {\n",
              "    return {\n",
              "      response: {\n",
              "        action: 'complete',\n",
              "      }\n",
              "    };\n",
              "  }\n",
              "\n",
              "  for (const file of files) {\n",
              "    const li = document.createElement('li');\n",
              "    li.append(span(file.name, {fontWeight: 'bold'}));\n",
              "    li.append(span(\n",
              "        `(${file.type || 'n/a'}) - ${file.size} bytes, ` +\n",
              "        `last modified: ${\n",
              "            file.lastModifiedDate ? file.lastModifiedDate.toLocaleDateString() :\n",
              "                                    'n/a'} - `));\n",
              "    const percent = span('0% done');\n",
              "    li.appendChild(percent);\n",
              "\n",
              "    outputElement.appendChild(li);\n",
              "\n",
              "    const fileDataPromise = new Promise((resolve) => {\n",
              "      const reader = new FileReader();\n",
              "      reader.onload = (e) => {\n",
              "        resolve(e.target.result);\n",
              "      };\n",
              "      reader.readAsArrayBuffer(file);\n",
              "    });\n",
              "    // Wait for the data to be ready.\n",
              "    let fileData = yield {\n",
              "      promise: fileDataPromise,\n",
              "      response: {\n",
              "        action: 'continue',\n",
              "      }\n",
              "    };\n",
              "\n",
              "    // Use a chunked sending to avoid message size limits. See b/62115660.\n",
              "    let position = 0;\n",
              "    do {\n",
              "      const length = Math.min(fileData.byteLength - position, MAX_PAYLOAD_SIZE);\n",
              "      const chunk = new Uint8Array(fileData, position, length);\n",
              "      position += length;\n",
              "\n",
              "      const base64 = btoa(String.fromCharCode.apply(null, chunk));\n",
              "      yield {\n",
              "        response: {\n",
              "          action: 'append',\n",
              "          file: file.name,\n",
              "          data: base64,\n",
              "        },\n",
              "      };\n",
              "\n",
              "      let percentDone = fileData.byteLength === 0 ?\n",
              "          100 :\n",
              "          Math.round((position / fileData.byteLength) * 100);\n",
              "      percent.textContent = `${percentDone}% done`;\n",
              "\n",
              "    } while (position < fileData.byteLength);\n",
              "  }\n",
              "\n",
              "  // All done.\n",
              "  yield {\n",
              "    response: {\n",
              "      action: 'complete',\n",
              "    }\n",
              "  };\n",
              "}\n",
              "\n",
              "scope.google = scope.google || {};\n",
              "scope.google.colab = scope.google.colab || {};\n",
              "scope.google.colab._files = {\n",
              "  _uploadFiles,\n",
              "  _uploadFilesContinue,\n",
              "};\n",
              "})(self);\n",
              "</script> "
            ]
          },
          "metadata": {}
        },
        {
          "output_type": "stream",
          "name": "stdout",
          "text": [
            "Saving accident-2014-4.csv to accident-2014-4.csv\n"
          ]
        }
      ]
    },
    {
      "cell_type": "code",
      "source": [
        "import pandas as pd\n",
        "import io\n",
        "import seaborn as sns\n",
        "import matplotlib.pyplot as plt\n",
        "import numpy as np\n",
        "from sklearn.cluster import KMeans\n",
        "%matplotlib inline\n",
        "import warnings\n",
        "from sklearn.preprocessing import LabelEncoder\n",
        "warnings.filterwarnings('ignore')\n",
        "\n",
        "df = pd.read_csv(io.BytesIO(uploaded['accident-2014-4.csv']))\n",
        "print(df.head().to_markdown())"
      ],
      "metadata": {
        "colab": {
          "base_uri": "https://localhost:8080/"
        },
        "id": "74_JzKYEluaw",
        "outputId": "b9d93b99-491c-4ae8-9cc0-2b7640c4b674"
      },
      "execution_count": null,
      "outputs": [
        {
          "output_type": "stream",
          "name": "stdout",
          "text": [
            "|    | Reference Number   |   Grid Ref: Easting |   Grid Ref: Northing |   Number of Vehicles | Accident Date   |   Time (24hr) |   1st Road Class | 1st Road Class & No   |   Road Surface |   Lighting Conditions |   Weather Conditions | Local Authority   |   Casualty Class |   Casualty Severity |   Sex of Casualty |   Age of Casualty |   Vehicle Number |   Type of Vehicle |\n",
            "|---:|:-------------------|--------------------:|---------------------:|---------------------:|:----------------|--------------:|-----------------:|:----------------------|---------------:|----------------------:|---------------------:|:------------------|-----------------:|--------------------:|------------------:|------------------:|-----------------:|------------------:|\n",
            "|  0 | 11S0281            |              407491 |               428929 |                    1 | 28-01-2014      |           835 |                6 | U                     |              2 |                     1 |                    9 | Calderdale        |                3 |                   3 |                 2 |                 8 |                1 |                 9 |\n",
            "|  1 | 11S1147            |              412912 |               429039 |                    1 | 28-01-2014      |          1745 |                6 | U                     |              2 |                     4 |                    1 | Calderdale        |                3 |                   3 |                 2 |                15 |                1 |                 9 |\n",
            "|  2 | 11S1147            |              412912 |               429039 |                    1 | 28-01-2014      |          1745 |                6 | U                     |              2 |                     4 |                    1 | Calderdale        |                3 |                   3 |                 1 |                17 |                1 |                 9 |\n",
            "|  3 | 11U0285            |              407179 |               424776 |                    2 | 30-01-2014      |           900 |                6 | U                     |              2 |                     1 |                    8 | Calderdale        |                1 |                   3 |                 2 |                29 |                2 |                 9 |\n",
            "|  4 | 11U0285            |              407179 |               424776 |                    2 | 30-01-2014      |           900 |                6 | U                     |              2 |                     1 |                    8 | Calderdale        |                2 |                   3 |                 1 |                 9 |                2 |                 9 |\n"
          ]
        }
      ]
    },
    {
      "cell_type": "code",
      "source": [
        "#Drop the columns with the non numerical values.\n",
        "df1 = df\n",
        "num_df =df1.drop(['Grid Ref: Easting', 'Grid Ref: Northing','Reference Number','Accident Date','Time (24hr)', '1st Road Class','Casualty Class', '1st Road Class & No','Vehicle Number','Local Authority'], axis=1)\n",
        "num_df.columns\n",
        "num_df.hist()\n",
        "\n",
        "# Bring the class attribute as the last column\n",
        "# The casulaty Severity here has 3 values.. 1.Fatal, 2.Seriuos . 3.Slight\n",
        "\n",
        "temp_series = num_df.pop('Casualty Severity')\n",
        "num_df['Casualty Severity'] = temp_series\n",
        "num_df.columns"
      ],
      "metadata": {
        "colab": {
          "base_uri": "https://localhost:8080/",
          "height": 350
        },
        "id": "gI_a7sPTluWh",
        "outputId": "95ad49b4-cd84-4e17-8953-5226ec73ddee"
      },
      "execution_count": null,
      "outputs": [
        {
          "output_type": "execute_result",
          "data": {
            "text/plain": [
              "Index(['Number of Vehicles', 'Road Surface', 'Lighting Conditions',\n",
              "       'Weather Conditions', 'Sex of Casualty', 'Age of Casualty',\n",
              "       'Type of Vehicle', 'Casualty Severity'],\n",
              "      dtype='object')"
            ]
          },
          "metadata": {},
          "execution_count": 4
        },
        {
          "output_type": "display_data",
          "data": {
            "text/plain": [
              "<Figure size 432x288 with 9 Axes>"
            ],
            "image/png": "[encoded data removed]"
          },
          "metadata": {
            "needs_background": "light"
          }
        }
      ]
    },
    {
      "cell_type": "markdown",
      "source": [
        "We have plotted the histograms for all the relevant independent features along with the dependant feature.<br>\n",
        "This can be used to see the quantities or number of items for each feature.\n",
        "<br> example - in Casualty severity histogram, we can understand that most records belong to 'class 3'. and hence using this dataset might help us to detremine the class 3"
      ],
      "metadata": {
        "id": "bCmPcmYv6el5"
      }
    },
    {
      "cell_type": "code",
      "source": [
        "# importing the sklearn library\n",
        "from sklearn.metrics import accuracy_score\n",
        "from sklearn.model_selection import train_test_split  \n",
        "from sklearn.preprocessing import StandardScaler \n",
        "from sklearn.metrics import classification_report, confusion_matrix, accuracy_score"
      ],
      "metadata": {
        "id": "MNAuDT59luUg"
      },
      "execution_count": null,
      "outputs": []
    },
    {
      "cell_type": "code",
      "source": [
        "# getting the x(dataset excluding the class attribute) and y(class attribute) dataset from class data set\n",
        "x = num_df.drop('Casualty Severity',axis=1)\n",
        "y = num_df['Casualty Severity']\n",
        "\n",
        "X_train, X_test, y_train, y_test= train_test_split(x, y, test_size= 0.25)"
      ],
      "metadata": {
        "id": "E1FGZwg2luRc"
      },
      "execution_count": null,
      "outputs": []
    },
    {
      "cell_type": "code",
      "source": [
        "classiferList = [\"KNN\", \"Naive bayes\", \"K means\", \"Hierarchial\", \"Decision Tree\", \"Linear Regression\", \"Logistic regression\", \"MLP\"]\n",
        "accuracyList = []\n",
        "\n",
        "acc_dict = {'KNN':0, \"Naive bayes\":0, \"Kmeans\":0, \"Hierarchial\":0, \"DecisionTree\":0, \"LinearRegression\":0, \"LogisticRegression\":0, \"MLP\":0}"
      ],
      "metadata": {
        "id": "eWJScEcvcv1s"
      },
      "execution_count": null,
      "outputs": []
    },
    {
      "cell_type": "markdown",
      "source": [
        "**1. KNN CLASSIFIER**\n",
        "<br>\n",
        "K-NN algorithm can be used for Classification as well as for Regression.\n",
        "It is used for Supervised Learning.\n",
        "It classifies the data point on how its neighbor is classified"
      ],
      "metadata": {
        "id": "W4dnt0ibYuEP"
      }
    },
    {
      "cell_type": "code",
      "source": [
        "from sklearn.neighbors import KNeighborsClassifier\n",
        "\n",
        "classifier = KNeighborsClassifier(n_neighbors=5,p=2)\n",
        "classifier.fit(X_train, y_train)\n",
        "y_pred = classifier.predict(X_test)\n",
        "\n",
        "print(classification_report(y_test, y_pred))\n",
        "print(confusion_matrix(y_test,y_pred))\n",
        "acc_score = accuracy_score(y_pred,y_test) \n",
        "print(\"Accuracy score\",acc_score)\n",
        "acc_dict['KNN']=round(acc_score,3)\n",
        "print(acc_dict)"
      ],
      "metadata": {
        "colab": {
          "base_uri": "https://localhost:8080/"
        },
        "id": "Uw9cb5UiYznE",
        "outputId": "b4ea59ed-4d0d-4e25-9b16-ffa9abd098da"
      },
      "execution_count": null,
      "outputs": [
        {
          "output_type": "stream",
          "name": "stdout",
          "text": [
            "              precision    recall  f1-score   support\n",
            "\n",
            "           1       0.00      0.00      0.00         1\n",
            "           2       0.25      0.10      0.14        20\n",
            "           3       0.87      0.95      0.91       135\n",
            "\n",
            "    accuracy                           0.83       156\n",
            "   macro avg       0.37      0.35      0.35       156\n",
            "weighted avg       0.79      0.83      0.80       156\n",
            "\n",
            "[[  0   0   1]\n",
            " [  0   2  18]\n",
            " [  1   6 128]]\n",
            "Accuracy score 0.8333333333333334\n",
            "{'KNN': 0.833, 'Naive bayes': 0, 'Kmeans': 0, 'Hierarchial': 0, 'DecisionTree': 0, 'LinearRegression': 0, 'LogisticRegression': 0, 'MLP': 0}\n"
          ]
        }
      ]
    },
    {
      "cell_type": "markdown",
      "source": [
        "**2.Naive Bayes Classifier**\n",
        "<br>\n",
        "It is a probabilistic classifier, which means it predicts on the basis of the probability of an object."
      ],
      "metadata": {
        "id": "LbzBriRCeIoP"
      }
    },
    {
      "cell_type": "code",
      "source": [
        "# train a Gaussian Naive Bayes classifier on the training set\n",
        "from sklearn.naive_bayes import GaussianNB\n",
        "\n",
        "gnb = GaussianNB()\n",
        "gnb.fit(X_train, y_train)\n",
        "y_pred = gnb.predict(X_test)\n",
        "\n",
        "print(classification_report(y_test, y_pred))\n",
        "print(confusion_matrix(y_test,y_pred))\n",
        "acc_score = accuracy_score(y_pred,y_test) \n",
        "print(\"Accuracy score\",acc_score)\n",
        "acc_dict[\"Naive bayes\"] = acc_score"
      ],
      "metadata": {
        "colab": {
          "base_uri": "https://localhost:8080/"
        },
        "id": "sPOc6brdfJIY",
        "outputId": "3acf606b-c741-4ce0-dc51-5a9c37415f38"
      },
      "execution_count": null,
      "outputs": [
        {
          "output_type": "stream",
          "name": "stdout",
          "text": [
            "              precision    recall  f1-score   support\n",
            "\n",
            "           1       0.04      1.00      0.08         1\n",
            "           2       0.29      0.25      0.27        20\n",
            "           3       0.92      0.79      0.85       135\n",
            "\n",
            "    accuracy                           0.72       156\n",
            "   macro avg       0.42      0.68      0.40       156\n",
            "weighted avg       0.84      0.72      0.77       156\n",
            "\n",
            "[[  1   0   0]\n",
            " [  6   5   9]\n",
            " [ 16  12 107]]\n",
            "Accuracy score 0.7243589743589743\n"
          ]
        }
      ]
    },
    {
      "cell_type": "markdown",
      "source": [
        "**3. K Means**\n",
        "<br>\n",
        "K-Means Clustering is an Unsupervised Learning algorithm, which groups the unlabeled dataset into different clusters. Here K defines the number of pre-defined clusters that need to be created in the process, as if K=2, there will be two clusters, and for K=3, there will be three clusters, and so on."
      ],
      "metadata": {
        "id": "EWaBtuQpfzek"
      }
    },
    {
      "cell_type": "code",
      "source": [
        "from sklearn.cluster import KMeans\n",
        "\n",
        "kmeans = KMeans(n_clusters=5, random_state=0) \n",
        "\n",
        "kmeans.fit(x)\n",
        "y_pred = kmeans.predict(x)\n",
        "\n",
        "kmeans.cluster_centers_\n",
        "kmeans.inertia_\n",
        "\n",
        "labels = kmeans.labels_\n",
        "correct_labels = sum(y == labels)\n",
        "acc_score = correct_labels/float(y.size)\n",
        "print(\"Result: %d out of %d samples were correctly labeled.\" % (correct_labels, y.size))\n",
        "print('Accuracy score: {0:0.2f}'. format(acc_score))\n",
        "acc_dict[\"Kmeans\"] = acc_score"
      ],
      "metadata": {
        "colab": {
          "base_uri": "https://localhost:8080/"
        },
        "id": "1XczpMtKfzII",
        "outputId": "a9fc84ed-1a49-4cb7-beae-027810371d37"
      },
      "execution_count": null,
      "outputs": [
        {
          "output_type": "stream",
          "name": "stdout",
          "text": [
            "Result: 34 out of 623 samples were correctly labeled.\n",
            "Accuracy score: 0.05\n"
          ]
        }
      ]
    },
    {
      "cell_type": "code",
      "source": [
        "cs = []\n",
        "for i in range(1, 11):\n",
        "    kmeans = KMeans(n_clusters = i, init = 'k-means++', max_iter = 300, n_init = 10, random_state = 0)\n",
        "    kmeans.fit(x)\n",
        "    cs.append(kmeans.inertia_)\n",
        "print(cs)\n",
        "plt.plot(range(1, 11), cs)\n",
        "plt.title('The Elbow Method')\n",
        "plt.xlabel('Number of clusters')\n",
        "plt.ylabel('WcSS values')\n",
        "plt.show()"
      ],
      "metadata": {
        "colab": {
          "base_uri": "https://localhost:8080/",
          "height": 332
        },
        "id": "PNhwJ-3WjHKu",
        "outputId": "b395f3d8-64e0-4dc4-9d08-d24692bebe60"
      },
      "execution_count": null,
      "outputs": [
        {
          "output_type": "stream",
          "name": "stdout",
          "text": [
            "[256540.7287319424, 96536.0727394277, 59218.90311808844, 45475.39431129023, 32436.48782279786, 24106.34916567345, 19888.738973885575, 17086.648659106406, 15788.31109408478, 14588.000247425607]\n"
          ]
        },
        {
          "output_type": "display_data",
          "data": {
            "text/plain": [
              "<Figure size 432x288 with 1 Axes>"
            ],
            "image/png": "[encoded data removed]"
          },
          "metadata": {
            "needs_background": "light"
          }
        }
      ]
    },
    {
      "cell_type": "markdown",
      "source": [
        "We have used lineplot to depict the best clusters by setting different number of cluster to the naive bayes classifier, hence finding the optimal clusters using the WCSS value obtained during each classification. <br>\n",
        "From this graph we can infer that the optimal cluster value is 4 as the slope becomes normal"
      ],
      "metadata": {
        "id": "D20gzsK29f4H"
      }
    },
    {
      "cell_type": "markdown",
      "source": [
        "**4.Hierarchial classification**\n",
        "<br>\n",
        "Hierarchical clustering is another unsupervised machine learning algorithm, which is used to group the unlabeled datasets into a cluster and also known as hierarchical cluster analysis "
      ],
      "metadata": {
        "id": "VBiaSw0Kq3_T"
      }
    },
    {
      "cell_type": "code",
      "source": [
        "import scipy.cluster.hierarchy as sch\n",
        "dendogram = sch.dendrogram(sch.linkage(x, method= 'ward', metric= 'euclidean'))"
      ],
      "metadata": {
        "colab": {
          "base_uri": "https://localhost:8080/",
          "height": 265
        },
        "id": "Sm21V3eMq-cS",
        "outputId": "a1c7fd7e-56dc-4e81-9aa7-507c05bbe66c"
      },
      "execution_count": null,
      "outputs": [
        {
          "output_type": "display_data",
          "data": {
            "text/plain": [
              "<Figure size 432x288 with 1 Axes>"
            ],
            "image/png": "[encoded data removed]"
          },
          "metadata": {
            "needs_background": "light"
          }
        }
      ]
    },
    {
      "cell_type": "markdown",
      "source": [
        "We can clearly visualize the steps of hierarchical clustering. More the distance of the vertical lines in the dendrogram, more the distance between those clusters.\n",
        "\n",
        "Now, we can set a threshold distance and draw a horizontal line (Generally, we try to set the threshold in such a way that it cuts the tallest vertical line). Let’s set this threshold as 4 and draw a horizontal line:"
      ],
      "metadata": {
        "id": "h6zRK2N7_hVy"
      }
    },
    {
      "cell_type": "code",
      "source": [
        "from sklearn.cluster import AgglomerativeClustering\n",
        "D_cluster = AgglomerativeClustering(n_clusters = 3)\n",
        "\n",
        "X_D = D_cluster.fit(x)\n",
        "Y_pred_D = D_cluster.fit_predict(x)\n",
        "acc_score = accuracy_score(y,Y_pred_D)\n",
        "acc_dict[\"Hierarchial\"] = acc_score"
      ],
      "metadata": {
        "id": "uehYbgnfr_4Y"
      },
      "execution_count": null,
      "outputs": []
    },
    {
      "cell_type": "markdown",
      "source": [
        "**5. Decision Tree**\n",
        "<br>\n",
        "It is a tree-structured classifier, where internal nodes represent the features of a dataset, branches represent the decision rules and each leaf node represents the outcome."
      ],
      "metadata": {
        "id": "d7sR_x2ZsqyH"
      }
    },
    {
      "cell_type": "code",
      "source": [
        "from sklearn.tree import DecisionTreeClassifier\n",
        "\n",
        "clf_gini = DecisionTreeClassifier(criterion='gini', max_depth=3, random_state=0)\n",
        "clf_gini.fit(X_train, y_train)\n",
        "y_pred_gini = clf_gini.predict(X_test)\n",
        "\n",
        "print(classification_report(y_test, y_pred_gini))\n",
        "print(confusion_matrix(y_test,y_pred_gini))\n",
        "acc_score = accuracy_score(y_pred_gini,y_test) \n",
        "print(\"Accuracy score\",acc_score)\n",
        "acc_dict['DecisionTree']=round(acc_score,3)\n",
        "print(acc_dict)"
      ],
      "metadata": {
        "colab": {
          "base_uri": "https://localhost:8080/"
        },
        "id": "dnj1wX4PtACQ",
        "outputId": "e9d0a663-07a8-4c03-b74b-1588c3f02fb5"
      },
      "execution_count": null,
      "outputs": [
        {
          "output_type": "stream",
          "name": "stdout",
          "text": [
            "              precision    recall  f1-score   support\n",
            "\n",
            "           1       0.00      0.00      0.00         1\n",
            "           2       0.42      0.25      0.31        20\n",
            "           3       0.89      0.95      0.92       135\n",
            "\n",
            "    accuracy                           0.85       156\n",
            "   macro avg       0.44      0.40      0.41       156\n",
            "weighted avg       0.82      0.85      0.83       156\n",
            "\n",
            "[[  0   0   1]\n",
            " [  0   5  15]\n",
            " [  0   7 128]]\n",
            "Accuracy score 0.8525641025641025\n",
            "{'KNN': 0.833, 'Naive bayes': 0.7243589743589743, 'Kmeans': 0.05457463884430177, 'Hierarchial': 0.05457463884430177, 'DecisionTree': 0.853, 'LinearRegression': 0, 'LogisticRegression': 0, 'MLP': 0}\n"
          ]
        }
      ]
    },
    {
      "cell_type": "markdown",
      "source": [
        "**6. Linear Regression**\n",
        "It is a statistical method that is used for predictive analysis. Linear regression makes predictions for continuous/real or numeric variables"
      ],
      "metadata": {
        "id": "lcz6XrPCuIpG"
      }
    },
    {
      "cell_type": "code",
      "source": [
        "from sklearn import linear_model\n",
        "\n",
        "lm = linear_model.LinearRegression()\n",
        "model = lm.fit(X_train,y_train)\n",
        "pred = lm.predict(X_train)\n",
        "\n",
        "#checking accuracy:\n",
        "from sklearn.metrics import r2_score\n",
        "predd = lm.predict(X_test)\n",
        "acc_score = r2_score(y_test, predd)\n",
        "acc_dict['LinearRegression']=round(acc_score,3)\n",
        "print(acc_dict)"
      ],
      "metadata": {
        "colab": {
          "base_uri": "https://localhost:8080/"
        },
        "id": "cfT-YOdQuHe7",
        "outputId": "b69f1a9b-c493-4fd1-abae-b0fa94bea902"
      },
      "execution_count": null,
      "outputs": [
        {
          "output_type": "stream",
          "name": "stdout",
          "text": [
            "{'KNN': 0.833, 'Naive bayes': 0.7243589743589743, 'Kmeans': 0.05457463884430177, 'Hierarchial': 0.05457463884430177, 'DecisionTree': 0.853, 'LinearRegression': 0.052, 'LogisticRegression': 0, 'MLP': 0}\n"
          ]
        }
      ]
    },
    {
      "cell_type": "code",
      "source": [
        "num_df.columns"
      ],
      "metadata": {
        "colab": {
          "base_uri": "https://localhost:8080/"
        },
        "id": "2dHX_dqLvrDM",
        "outputId": "404aff6e-223e-4cb3-fe2f-6e26e433687f"
      },
      "execution_count": null,
      "outputs": [
        {
          "output_type": "execute_result",
          "data": {
            "text/plain": [
              "Index(['Number of Vehicles', 'Road Surface', 'Lighting Conditions',\n",
              "       'Weather Conditions', 'Sex of Casualty', 'Age of Casualty',\n",
              "       'Type of Vehicle', 'Casualty Severity'],\n",
              "      dtype='object')"
            ]
          },
          "metadata": {},
          "execution_count": 16
        }
      ]
    },
    {
      "cell_type": "code",
      "source": [
        "sns.lmplot(x =\"Weather Conditions\", y =\"Casualty Severity\", data = num_df, order = 1, ci = None,)"
      ],
      "metadata": {
        "colab": {
          "base_uri": "https://localhost:8080/",
          "height": 386
        },
        "id": "rM3zk0w7vH5w",
        "outputId": "abce3036-5917-4c86-9d5a-1a29aa016764"
      },
      "execution_count": null,
      "outputs": [
        {
          "output_type": "execute_result",
          "data": {
            "text/plain": [
              "<seaborn.axisgrid.FacetGrid at 0x7f3968f93710>"
            ]
          },
          "metadata": {},
          "execution_count": 17
        },
        {
          "output_type": "display_data",
          "data": {
            "text/plain": [
              "<Figure size 360x360 with 1 Axes>"
            ],
            "image/png": "[encoded data removed]"
          },
          "metadata": {
            "needs_background": "light"
          }
        }
      ]
    },
    {
      "cell_type": "markdown",
      "source": [
        "we can see that linear regression doesn't work for classification. as the line is not able clarly divide the dataset"
      ],
      "metadata": {
        "id": "L-_ZlR2hvwuQ"
      }
    },
    {
      "cell_type": "markdown",
      "source": [
        "**7. Logistic regression**\n",
        "<br>\n",
        "Logistic regression predicts the output of a categorical dependent variable. Therefore the outcome must be a categorical or discrete value. It can be either Yes or No, 0 or 1, true or False, etc. but instead of giving the exact value as 0 and 1, it gives the probabilistic values which lie between 0 and 1."
      ],
      "metadata": {
        "id": "n_i06kG7wyuF"
      }
    },
    {
      "cell_type": "code",
      "source": [
        "from sklearn.linear_model import LogisticRegression  \n",
        "classifier= LogisticRegression(random_state=0,multi_class='ovr')  \n",
        "classifier.fit(X_train, y_train)  \n",
        "y_pred= classifier.predict(X_test)  \n",
        "\n",
        "print(classification_report(y_test, y_pred))\n",
        "print(confusion_matrix(y_test,y_pred))\n",
        "acc_score = accuracy_score(y_test, y_pred) \n",
        "print(\"Accuracy score\",acc_score)\n",
        "acc_dict['LogisticRegression']=round(acc_score,3)\n",
        "print(acc_dict)"
      ],
      "metadata": {
        "colab": {
          "base_uri": "https://localhost:8080/"
        },
        "id": "JaIoLETawxUZ",
        "outputId": "307f1d80-fa76-41e5-841b-52803c438f2a"
      },
      "execution_count": null,
      "outputs": [
        {
          "output_type": "stream",
          "name": "stdout",
          "text": [
            "              precision    recall  f1-score   support\n",
            "\n",
            "           1       0.00      0.00      0.00         1\n",
            "           2       0.67      0.10      0.17        20\n",
            "           3       0.88      0.99      0.93       135\n",
            "\n",
            "    accuracy                           0.87       156\n",
            "   macro avg       0.51      0.36      0.37       156\n",
            "weighted avg       0.84      0.87      0.83       156\n",
            "\n",
            "[[  0   0   1]\n",
            " [  0   2  18]\n",
            " [  0   1 134]]\n",
            "Accuracy score 0.8717948717948718\n",
            "{'KNN': 0.833, 'Naive bayes': 0.7243589743589743, 'Kmeans': 0.05457463884430177, 'Hierarchial': 0.05457463884430177, 'DecisionTree': 0.853, 'LinearRegression': 0.052, 'LogisticRegression': 0.872, 'MLP': 0}\n"
          ]
        }
      ]
    },
    {
      "cell_type": "markdown",
      "source": [
        "**8. Multi Layer Perceptron - MLP**\n",
        "<br>\n",
        "A multilayer perceptron (MLP) is a feed forward artificial neural network that generates a set of outputs from a set of inputs. An MLP is characterized by several layers of input nodes connected as a directed graph between the input nodes connected as a directed graph between the input and output layers. "
      ],
      "metadata": {
        "id": "fYlTMQ3IxoVP"
      }
    },
    {
      "cell_type": "code",
      "source": [
        "from sklearn.neural_network import MLPClassifier\n",
        "from sklearn.metrics import roc_auc_score\n",
        "\n",
        "clf = MLPClassifier(hidden_layer_sizes=(5,),random_state=1, max_iter=300).fit(X_train, y_train)\n",
        "clf.fit(X_train,y_train)\n",
        "y_pred = clf.predict_proba(X_test)\n",
        "print('Overall AUC:', roc_auc_score(y_train, clf.predict_proba(X_train),multi_class=\"ovr\"))\n",
        "\n",
        "\n",
        "y_pred = clf.predict(X_test)\n",
        "cm = confusion_matrix(y_test, y_pred)\n",
        "\n",
        "# print(classification_report(y_test, y_pred))\n",
        "print(confusion_matrix(y_test,y_pred))\n",
        "acc_score = accuracy_score(y_test, y_pred) \n",
        "print(\"Accuracy score\",acc_score)\n",
        "acc_dict['MLP']=round(acc_score,3)\n",
        "print(acc_dict)"
      ],
      "metadata": {
        "colab": {
          "base_uri": "https://localhost:8080/"
        },
        "id": "XXI9AkHMx1yw",
        "outputId": "b1f41d3b-d340-4b0f-a558-5067a0f8dd7c"
      },
      "execution_count": null,
      "outputs": [
        {
          "output_type": "stream",
          "name": "stdout",
          "text": [
            "Overall AUC: 0.6436007783584715\n",
            "[[  0   0   1]\n",
            " [  0   3  17]\n",
            " [  0   8 127]]\n",
            "Accuracy score 0.8333333333333334\n",
            "{'KNN': 0.833, 'Naive bayes': 0.7243589743589743, 'Kmeans': 0.05457463884430177, 'Hierarchial': 0.05457463884430177, 'DecisionTree': 0.853, 'LinearRegression': 0.052, 'LogisticRegression': 0.872, 'MLP': 0.833}\n"
          ]
        }
      ]
    },
    {
      "cell_type": "markdown",
      "source": [
        "**Plotting the prediction accuracies of all the algorithms for test data set**"
      ],
      "metadata": {
        "id": "-H-UNQy1zf3z"
      }
    },
    {
      "cell_type": "code",
      "source": [
        "keyList = []\n",
        "valuesList = []\n",
        "\n",
        "for key, value in acc_dict.items():\n",
        "  keyList.append(key)\n",
        "  valuesList.append(value)\n",
        "\n",
        "plt.figure(figsize=(15, 10))\n",
        "plt.plot(keyList, valuesList)\n",
        "plt.xlabel(\"Algorithms\")\n",
        "plt.ylabel(\"Accuracy scores\")\n"
      ],
      "metadata": {
        "colab": {
          "base_uri": "https://localhost:8080/",
          "height": 623
        },
        "id": "Qrd7zNhezfli",
        "outputId": "fdf06501-eaf1-4edf-82ca-3a67d461cfe7"
      },
      "execution_count": null,
      "outputs": [
        {
          "output_type": "execute_result",
          "data": {
            "text/plain": [
              "Text(0, 0.5, 'Accuracy scores')"
            ]
          },
          "metadata": {},
          "execution_count": 20
        },
        {
          "output_type": "display_data",
          "data": {
            "text/plain": [
              "<Figure size 1080x720 with 1 Axes>"
            ],
            "image/png": "[encoded data removed]"
          },
          "metadata": {
            "needs_background": "light"
          }
        }
      ]
    },
    {
      "cell_type": "markdown",
      "source": [
        "**We can see the accuracies for the given algorithms**\n",
        "<br>\n",
        "classification algos seem to have beter accuracies than clustering.\n",
        "<br> \n",
        "Linear regression also provides least accuracy as the dataset doesnt contain continuous data. hence the problem is a classification problem"
      ],
      "metadata": {
        "id": "QLoW7mvTh2iz"
      }
    }
  ]
}